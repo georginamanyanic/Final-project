{
 "cells": [
  {
   "cell_type": "code",
   "execution_count": 1,
   "metadata": {},
   "outputs": [],
   "source": [
    "import sys\n",
    "sys.path.append('C:/Users/manya/Documents/Ironhack/Course/Final-project/src')\n",
    "import scrapping"
   ]
  },
  {
   "cell_type": "code",
   "execution_count": 2,
   "metadata": {},
   "outputs": [],
   "source": [
    "names_plants = scrapping.plant_names('http://www.gardenate.com/plants/') #scrapping nombres plantas formato url\n",
    "dict_climate = scrapping.zones('https://www.gardenate.com/plant/Basil') #scrapping zonas climáticas formato diccionario\n",
    "url_plants = scrapping.get_urls_plants (names_plants) #lista de url solo plantas\n",
    "list_url = scrapping.get_urls_complete(names_plants, dict_climate) #lista url plantas + zonas climáticas\n",
    "list_url = scrapping.drop_url_list(list_url, 'https://www.gardenate.com/plant/Cauliflower?zone=102')\n",
    "dict_climate_filtered = scrapping.filter_dict_climate(dict_climate,'USA') "
   ]
  },
  {
   "cell_type": "code",
   "execution_count": 3,
   "metadata": {},
   "outputs": [
    {
     "data": {
      "text/plain": [
       "{'107': 'USA - Zone 2a',\n",
       " '108': 'USA - Zone 2b',\n",
       " '109': 'USA - Zone 3a',\n",
       " '110': 'USA - Zone 3b',\n",
       " '111': 'USA - Zone 4a',\n",
       " '112': 'USA - Zone 4b',\n",
       " '11': 'USA - Zone 5a',\n",
       " '14': 'USA - Zone 5b',\n",
       " '16': 'USA - Zone 6a',\n",
       " '113': 'USA - Zone 6b',\n",
       " '10': 'USA - Zone 7a',\n",
       " '114': 'USA - Zone 7b',\n",
       " '13': 'USA - Zone 8a',\n",
       " '12': 'USA - Zone 8b',\n",
       " '115': 'USA - Zone 9a',\n",
       " '116': 'USA - Zone 9b',\n",
       " '15': 'USA - Zone 10a',\n",
       " '100': 'USA - Zone 10b',\n",
       " '101': 'USA - Zone 11a',\n",
       " '102': 'USA - Zone 11b',\n",
       " '103': 'USA - Zone 12a',\n",
       " '104': 'USA - Zone 12b',\n",
       " '105': 'USA - Zone 13a',\n",
       " '106': 'USA - Zone 13b'}"
      ]
     },
     "execution_count": 3,
     "metadata": {},
     "output_type": "execute_result"
    }
   ],
   "source": [
    "dict_climate_filtered"
   ]
  },
  {
   "cell_type": "code",
   "execution_count": null,
   "metadata": {},
   "outputs": [],
   "source": [
    "import json\n",
    "\n",
    "with open('dict_climate_filtered.json', 'w') as file:\n",
    "    json.dump(dict_climate_filtered, file)"
   ]
  }
 ],
 "metadata": {
  "kernelspec": {
   "display_name": "proyecto_final",
   "language": "python",
   "name": "python3"
  },
  "language_info": {
   "codemirror_mode": {
    "name": "ipython",
    "version": 3
   },
   "file_extension": ".py",
   "mimetype": "text/x-python",
   "name": "python",
   "nbconvert_exporter": "python",
   "pygments_lexer": "ipython3",
   "version": "3.10.9"
  },
  "orig_nbformat": 4
 },
 "nbformat": 4,
 "nbformat_minor": 2
}
