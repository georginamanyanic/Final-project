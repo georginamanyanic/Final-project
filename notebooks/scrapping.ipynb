{
 "cells": [
  {
   "cell_type": "code",
   "execution_count": 2,
   "metadata": {},
   "outputs": [],
   "source": [
    "import sys\n",
    "sys.path.append('C:/Users/manya/Documents/Ironhack/Course/Final-project/src')\n",
    "import scrapping"
   ]
  },
  {
   "attachments": {},
   "cell_type": "markdown",
   "metadata": {},
   "source": [
    "### URLs para scrapear\n",
    "Para empezar el scrapping con BeautifulSoup, tenemos que conseguir todos los URLs que queremos scrapear e iterar sobre estos para crear los dos DataFrames. El formato de los links son http://www.gardenate.com/plant/{name_plant}?zone={num_zona}, por lo que tenemos que obtener todos los nombres de las plantas y todas las zonas climáticas para formar las listas de urls."
   ]
  },
  {
   "cell_type": "code",
   "execution_count": 8,
   "metadata": {},
   "outputs": [],
   "source": [
    "names_plants = scrapping.plant_names('http://www.gardenate.com/plants/') #scrapping nombres plantas formato url\n",
    "dict_climate = scrapping.zones('https://www.gardenate.com/plant/Basil') #scrapping zonas climáticas formato diccionario\n",
    "url_plants = scrapping.get_urls_plants (names_plants) #lista de url solo plantas\n",
    "list_url = scrapping.get_urls_complete(names_plants, dict_climate) #lista url plantas + zonas climáticas\n",
    "list_url = scrapping.drop_url_list(list_url, 'https://www.gardenate.com/plant/Cauliflower?zone=102')"
   ]
  },
  {
   "attachments": {},
   "cell_type": "markdown",
   "metadata": {},
   "source": [
    "### DataFrame characteristics \n",
    "El primer DataFrame que queremos obtener es el de las características de las plantas que será común entre zonas climáticas. Este DataFrame contiene las columnas: nombre planta, sowing, spacing, compatibility, avoid y url de la imagen de la planta. Se obtiene mediante la lista url_plants que se itera sobre esta para realizar el scrapping y crear el dataframe"
   ]
  },
  {
   "cell_type": "code",
   "execution_count": 9,
   "metadata": {},
   "outputs": [],
   "source": [
    "df_characteristics = scrapping.characterisitics(url_plants)"
   ]
  },
  {
   "cell_type": "code",
   "execution_count": 10,
   "metadata": {},
   "outputs": [],
   "source": [
    "characterisitics = df_characteristics.to_csv('C:/Users/manya/Documents/Ironhack/Course/Final-project/data/characteristics.csv')"
   ]
  },
  {
   "attachments": {},
   "cell_type": "markdown",
   "metadata": {},
   "source": [
    "### DataFrame seasonality\n",
    "\n",
    "El segundo DataFrame es el de seasonality que recoge los meses en que se tiene que sembrar cada planta según zona climática y tipo de sembrado usando el list_url."
   ]
  },
  {
   "cell_type": "code",
   "execution_count": 11,
   "metadata": {},
   "outputs": [],
   "source": [
    "df_seasonality = scrapping.concat_multiple_tables(list_url)"
   ]
  },
  {
   "cell_type": "code",
   "execution_count": null,
   "metadata": {},
   "outputs": [],
   "source": [
    "seasonality = df_seasonality.to_csv('C:/Users/manya/Documents/Ironhack/Course/Final-project/data/seasonality.csv')"
   ]
  }
 ],
 "metadata": {
  "kernelspec": {
   "display_name": "proyecto_final",
   "language": "python",
   "name": "python3"
  },
  "language_info": {
   "codemirror_mode": {
    "name": "ipython",
    "version": 3
   },
   "file_extension": ".py",
   "mimetype": "text/x-python",
   "name": "python",
   "nbconvert_exporter": "python",
   "pygments_lexer": "ipython3",
   "version": "3.10.9"
  },
  "orig_nbformat": 4
 },
 "nbformat": 4,
 "nbformat_minor": 2
}
