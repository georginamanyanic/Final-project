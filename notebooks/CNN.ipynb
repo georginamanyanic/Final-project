{
 "cells": [
  {
   "cell_type": "markdown",
   "metadata": {},
   "source": [
    "## Instalar dependencias y configuración"
   ]
  },
  {
   "cell_type": "code",
   "execution_count": 40,
   "metadata": {},
   "outputs": [],
   "source": [
    "import tensorflow as tf\n",
    "import os \n",
    "import numpy as np\n",
    "from matplotlib import pyplot as plt\n",
    "from keras.preprocessing.image import ImageDataGenerator\n",
    "from tensorflow.keras.models import Sequential\n",
    "from tensorflow.keras.layers import Conv2D, MaxPooling2D, Dense, Flatten, Dropout"
   ]
  },
  {
   "cell_type": "code",
   "execution_count": 3,
   "metadata": {},
   "outputs": [],
   "source": [
    "# Evita los errores de OOM configurando el crecimiento del consumo de memoria de la GPU\n",
    "gpus = tf.config.experimental.list_physical_devices('GPU')\n",
    "for gpu in gpus: \n",
    "    tf.config.experimental.set_memory_growth(gpu, True)"
   ]
  },
  {
   "cell_type": "markdown",
   "metadata": {},
   "source": [
    "## Load Data and Preprocessing"
   ]
  },
  {
   "cell_type": "code",
   "execution_count": 5,
   "metadata": {},
   "outputs": [],
   "source": [
    "train_path = '../images/train'\n",
    "validation_path = '../images/validation'\n",
    "test_path = '../images/test'\n"
   ]
  },
  {
   "cell_type": "code",
   "execution_count": 25,
   "metadata": {},
   "outputs": [],
   "source": [
    "train_generator = ImageDataGenerator(rescale = 1/225.) #Normalizing the data\n",
    "validation_generator = ImageDataGenerator(rescale = 1/225.) #Normalizing the data\n",
    "test_generator = ImageDataGenerator(rescale = 1/225.) #Normalizing the data"
   ]
  },
  {
   "cell_type": "code",
   "execution_count": 26,
   "metadata": {},
   "outputs": [
    {
     "name": "stdout",
     "output_type": "stream",
     "text": [
      "Found 11000 images belonging to 11 classes.\n",
      "Found 2200 images belonging to 11 classes.\n",
      "Found 2200 images belonging to 11 classes.\n"
     ]
    }
   ],
   "source": [
    "train = train_generator.flow_from_directory(train_path, target_size = (32,32), batch_size= 64, class_mode= 'categorical')\n",
    "validation = validation_generator.flow_from_directory(validation_path, target_size = (32,32), batch_size= 64, class_mode= 'categorical')\n",
    "test = test_generator.flow_from_directory(test_path, target_size = (32,32), batch_size= 64, class_mode= 'categorical')"
   ]
  },
  {
   "cell_type": "code",
   "execution_count": 33,
   "metadata": {},
   "outputs": [
    {
     "data": {
      "text/plain": [
       "<keras.src.preprocessing.image.DirectoryIterator at 0x1aded280190>"
      ]
     },
     "execution_count": 33,
     "metadata": {},
     "output_type": "execute_result"
    }
   ],
   "source": [
    "train"
   ]
  },
  {
   "cell_type": "code",
   "execution_count": 32,
   "metadata": {},
   "outputs": [
    {
     "data": {
      "text/plain": [
       "{0: 'Broad_Bean',\n",
       " 1: 'Broccoli',\n",
       " 2: 'Cabbage',\n",
       " 3: 'Capsicum',\n",
       " 4: 'Carrot',\n",
       " 5: 'Cauliflower',\n",
       " 6: 'Cucumber',\n",
       " 7: 'Potato',\n",
       " 8: 'Pumpkin',\n",
       " 9: 'Radish',\n",
       " 10: 'Tomato'}"
      ]
     },
     "execution_count": 32,
     "metadata": {},
     "output_type": "execute_result"
    }
   ],
   "source": [
    "classes = dict([(v, k) for k, v in train.class_indices.items()])\n",
    "classes"
   ]
  },
  {
   "cell_type": "markdown",
   "metadata": {},
   "source": [
    "## Convolutional Neural Network"
   ]
  },
  {
   "cell_type": "code",
   "execution_count": 41,
   "metadata": {},
   "outputs": [],
   "source": [
    "model = Sequential() \n",
    "# Usamos el sequential dado que solo tenemos un input y un output\n"
   ]
  },
  {
   "cell_type": "code",
   "execution_count": null,
   "metadata": {},
   "outputs": [],
   "source": [
    "model.add(Conv2D(16, (3,3), 1, activation='relu', input_shape=(32,32,3)))\n",
    "model.add(MaxPooling2D())\n",
    "\n"
   ]
  }
 ],
 "metadata": {
  "kernelspec": {
   "display_name": "proyecto_final",
   "language": "python",
   "name": "python3"
  },
  "language_info": {
   "codemirror_mode": {
    "name": "ipython",
    "version": 3
   },
   "file_extension": ".py",
   "mimetype": "text/x-python",
   "name": "python",
   "nbconvert_exporter": "python",
   "pygments_lexer": "ipython3",
   "version": "3.10.9"
  },
  "orig_nbformat": 4
 },
 "nbformat": 4,
 "nbformat_minor": 2
}
