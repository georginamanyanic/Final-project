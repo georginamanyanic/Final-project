{
 "cells": [
  {
   "cell_type": "code",
   "execution_count": 1,
   "metadata": {},
   "outputs": [],
   "source": [
    "import sys\n",
    "sys.path.append('C:/Users/manya/Documents/Ironhack/Course/Final-project/src')\n",
    "from geo_json import get_hsz, geocode\n",
    "import sql\n",
    "import tensorflow as tf\n",
    "from tensorflow.keras.preprocessing.image import ImageDataGenerator\n",
    "from PIL import Image \n",
    "import seaborn as sns \n",
    "import keras.models\n",
    "from keras.preprocessing import image\n",
    "from CNN_model import Image_Data_Generator_train\n",
    "import numpy as np"
   ]
  },
  {
   "cell_type": "markdown",
   "metadata": {},
   "source": [
    "## OUTPUT MODELO"
   ]
  },
  {
   "cell_type": "code",
   "execution_count": 2,
   "metadata": {},
   "outputs": [
    {
     "name": "stdout",
     "output_type": "stream",
     "text": [
      "Found 15000 images belonging to 15 classes.\n"
     ]
    }
   ],
   "source": [
    "model = keras.models.load_model('../models/model_def.keras')\n",
    "train_generator = Image_Data_Generator_train('../images_15/train',(224,224), 32)\n",
    "def predict_label (test_image_path):\n",
    "     # 1. Load and preprocess the image\n",
    "    test_img = image.load_img(test_image_path, target_size=(224, 224))\n",
    "    test_img_arr = image.img_to_array(test_img)/255.0\n",
    "    test_img_input = test_img_arr.reshape((1, test_img_arr.shape[0], test_img_arr.shape[1], test_img_arr.shape[2]))\n",
    "\n",
    "    # 2. Make Predictions\n",
    "    class_map = dict([(v, k) for k, v in train_generator.class_indices.items()])\n",
    "    predicted_label = np.argmax(model.predict(test_img_input))\n",
    "    predicted_vegetable = class_map[predicted_label]\n",
    "\n",
    "    return predicted_vegetable"
   ]
  },
  {
   "cell_type": "code",
   "execution_count": 17,
   "metadata": {},
   "outputs": [
    {
     "name": "stdout",
     "output_type": "stream",
     "text": [
      "1/1 [==============================] - 0s 61ms/step\n"
     ]
    }
   ],
   "source": [
    "vegetable = predict_label(\"C:/Users/manya/OneDrive/Imágenes/Álbum de cámara/WIN_20230716_20_11_57_Pro.jpg\")"
   ]
  },
  {
   "cell_type": "code",
   "execution_count": 18,
   "metadata": {},
   "outputs": [
    {
     "name": "stdout",
     "output_type": "stream",
     "text": [
      "Pumpkin\n"
     ]
    }
   ],
   "source": [
    "print(vegetable)"
   ]
  },
  {
   "cell_type": "markdown",
   "metadata": {},
   "source": [
    "### OUTPUT LOCATION"
   ]
  },
  {
   "cell_type": "code",
   "execution_count": 5,
   "metadata": {},
   "outputs": [
    {
     "name": "stdout",
     "output_type": "stream",
     "text": [
      "10a\n"
     ]
    }
   ],
   "source": [
    "coordenadas = geocode('calle pamplona ,21, Barcelona')\n",
    "hsz_ = list(get_hsz(coordenadas[0],coordenadas[1]))[0]\n",
    "print(hsz_)"
   ]
  },
  {
   "cell_type": "markdown",
   "metadata": {},
   "source": [
    "### Connection Database "
   ]
  },
  {
   "cell_type": "code",
   "execution_count": 6,
   "metadata": {},
   "outputs": [],
   "source": [
    "characteristics = sql.get_charactersitics(vegetable)\n",
    "seasonality = sql.get_seasonality(vegetable,hsz_)"
   ]
  },
  {
   "cell_type": "code",
   "execution_count": 7,
   "metadata": {},
   "outputs": [
    {
     "data": {
      "text/html": [
       "<div>\n",
       "<style scoped>\n",
       "    .dataframe tbody tr th:only-of-type {\n",
       "        vertical-align: middle;\n",
       "    }\n",
       "\n",
       "    .dataframe tbody tr th {\n",
       "        vertical-align: top;\n",
       "    }\n",
       "\n",
       "    .dataframe thead th {\n",
       "        text-align: right;\n",
       "    }\n",
       "</style>\n",
       "<table border=\"1\" class=\"dataframe\">\n",
       "  <thead>\n",
       "    <tr style=\"text-align: right;\">\n",
       "      <th></th>\n",
       "      <th>name</th>\n",
       "      <th>sowing</th>\n",
       "      <th>spacing</th>\n",
       "      <th>harvest</th>\n",
       "      <th>compatibility</th>\n",
       "      <th>avoid</th>\n",
       "      <th>image_link</th>\n",
       "      <th>temperature</th>\n",
       "    </tr>\n",
       "  </thead>\n",
       "  <tbody>\n",
       "    <tr>\n",
       "      <th>0</th>\n",
       "      <td>Tomato</td>\n",
       "      <td>Grow in seed trays, and plant out in 4-6 week...</td>\n",
       "      <td>40 - 60 cm apart</td>\n",
       "      <td>Harvest in 8-17 weeks.</td>\n",
       "      <td>Asparagus, Chervil,Carrot, Celery, Chives, Pa...</td>\n",
       "      <td>Rosemary, Potatoes, Fennel, Cucumber</td>\n",
       "      <td>www.gardenate.com/image/26</td>\n",
       "      <td>16°C and 35°C</td>\n",
       "    </tr>\n",
       "  </tbody>\n",
       "</table>\n",
       "</div>"
      ],
      "text/plain": [
       "     name                                             sowing  \\\n",
       "0  Tomato   Grow in seed trays, and plant out in 4-6 week...   \n",
       "\n",
       "              spacing                   harvest  \\\n",
       "0   40 - 60 cm apart    Harvest in 8-17 weeks.    \n",
       "\n",
       "                                       compatibility  \\\n",
       "0   Asparagus, Chervil,Carrot, Celery, Chives, Pa...   \n",
       "\n",
       "                                   avoid                  image_link  \\\n",
       "0   Rosemary, Potatoes, Fennel, Cucumber  www.gardenate.com/image/26   \n",
       "\n",
       "     temperature  \n",
       "0  16°C and 35°C  "
      ]
     },
     "execution_count": 7,
     "metadata": {},
     "output_type": "execute_result"
    }
   ],
   "source": [
    "characteristics"
   ]
  },
  {
   "cell_type": "code",
   "execution_count": 8,
   "metadata": {},
   "outputs": [
    {
     "data": {
      "text/plain": [
       "Jan    2\n",
       "Feb    2\n",
       "Mar    1\n",
       "Apr    1\n",
       "May    3\n",
       "Jun    3\n",
       "Jul    3\n",
       "Aug    3\n",
       "Sep    2\n",
       "Oct    3\n",
       "Nov    3\n",
       "Dec    3\n",
       "dtype: int64"
      ]
     },
     "execution_count": 8,
     "metadata": {},
     "output_type": "execute_result"
    }
   ],
   "source": [
    "seasonality.isna().sum()"
   ]
  },
  {
   "cell_type": "code",
   "execution_count": 12,
   "metadata": {},
   "outputs": [],
   "source": [
    "def color_cells(val):\n",
    "    if val == 'S':\n",
    "        color = '#A68464'  # Color para 'S'\n",
    "    elif val == 'T':\n",
    "         color = '#A4AC86'  # Color para 'T'\n",
    "    elif val == 'P':\n",
    "        color = '#B6AD90'  # Color para 'P'\n",
    "    else:\n",
    "        color = 'white'  # Color para celdas vacías\n",
    "    return f'background-color: {color}'\n",
    "    \n",
    "styled_cal = seasonality.style.applymap(color_cells)"
   ]
  },
  {
   "cell_type": "code",
   "execution_count": 13,
   "metadata": {},
   "outputs": [
    {
     "data": {
      "text/html": [
       "<style type=\"text/css\">\n",
       "#T_2a40b_row0_col0, #T_2a40b_row0_col1 {\n",
       "  background-color: #A68464;\n",
       "}\n",
       "#T_2a40b_row0_col2, #T_2a40b_row0_col3, #T_2a40b_row0_col4, #T_2a40b_row0_col5, #T_2a40b_row0_col6, #T_2a40b_row0_col7, #T_2a40b_row0_col8, #T_2a40b_row0_col9, #T_2a40b_row0_col10, #T_2a40b_row0_col11, #T_2a40b_row1_col0, #T_2a40b_row1_col1, #T_2a40b_row1_col4, #T_2a40b_row1_col5, #T_2a40b_row1_col6, #T_2a40b_row1_col7, #T_2a40b_row1_col8, #T_2a40b_row1_col9, #T_2a40b_row1_col10, #T_2a40b_row1_col11, #T_2a40b_row2_col0, #T_2a40b_row2_col1, #T_2a40b_row2_col4, #T_2a40b_row2_col5, #T_2a40b_row2_col6, #T_2a40b_row2_col7, #T_2a40b_row2_col9, #T_2a40b_row2_col10, #T_2a40b_row2_col11 {\n",
       "  background-color: white;\n",
       "}\n",
       "#T_2a40b_row1_col2, #T_2a40b_row1_col3 {\n",
       "  background-color: #A4AC86;\n",
       "}\n",
       "#T_2a40b_row2_col2, #T_2a40b_row2_col3, #T_2a40b_row2_col8 {\n",
       "  background-color: #B6AD90;\n",
       "}\n",
       "</style>\n",
       "<table id=\"T_2a40b\">\n",
       "  <thead>\n",
       "    <tr>\n",
       "      <th class=\"blank level0\" >&nbsp;</th>\n",
       "      <th id=\"T_2a40b_level0_col0\" class=\"col_heading level0 col0\" >Jan</th>\n",
       "      <th id=\"T_2a40b_level0_col1\" class=\"col_heading level0 col1\" >Feb</th>\n",
       "      <th id=\"T_2a40b_level0_col2\" class=\"col_heading level0 col2\" >Mar</th>\n",
       "      <th id=\"T_2a40b_level0_col3\" class=\"col_heading level0 col3\" >Apr</th>\n",
       "      <th id=\"T_2a40b_level0_col4\" class=\"col_heading level0 col4\" >May</th>\n",
       "      <th id=\"T_2a40b_level0_col5\" class=\"col_heading level0 col5\" >Jun</th>\n",
       "      <th id=\"T_2a40b_level0_col6\" class=\"col_heading level0 col6\" >Jul</th>\n",
       "      <th id=\"T_2a40b_level0_col7\" class=\"col_heading level0 col7\" >Aug</th>\n",
       "      <th id=\"T_2a40b_level0_col8\" class=\"col_heading level0 col8\" >Sep</th>\n",
       "      <th id=\"T_2a40b_level0_col9\" class=\"col_heading level0 col9\" >Oct</th>\n",
       "      <th id=\"T_2a40b_level0_col10\" class=\"col_heading level0 col10\" >Nov</th>\n",
       "      <th id=\"T_2a40b_level0_col11\" class=\"col_heading level0 col11\" >Dec</th>\n",
       "    </tr>\n",
       "  </thead>\n",
       "  <tbody>\n",
       "    <tr>\n",
       "      <th id=\"T_2a40b_level0_row0\" class=\"row_heading level0 row0\" >0</th>\n",
       "      <td id=\"T_2a40b_row0_col0\" class=\"data row0 col0\" >S</td>\n",
       "      <td id=\"T_2a40b_row0_col1\" class=\"data row0 col1\" >S</td>\n",
       "      <td id=\"T_2a40b_row0_col2\" class=\"data row0 col2\" >None</td>\n",
       "      <td id=\"T_2a40b_row0_col3\" class=\"data row0 col3\" >None</td>\n",
       "      <td id=\"T_2a40b_row0_col4\" class=\"data row0 col4\" >None</td>\n",
       "      <td id=\"T_2a40b_row0_col5\" class=\"data row0 col5\" >None</td>\n",
       "      <td id=\"T_2a40b_row0_col6\" class=\"data row0 col6\" >None</td>\n",
       "      <td id=\"T_2a40b_row0_col7\" class=\"data row0 col7\" >None</td>\n",
       "      <td id=\"T_2a40b_row0_col8\" class=\"data row0 col8\" >None</td>\n",
       "      <td id=\"T_2a40b_row0_col9\" class=\"data row0 col9\" >None</td>\n",
       "      <td id=\"T_2a40b_row0_col10\" class=\"data row0 col10\" >None</td>\n",
       "      <td id=\"T_2a40b_row0_col11\" class=\"data row0 col11\" >None</td>\n",
       "    </tr>\n",
       "    <tr>\n",
       "      <th id=\"T_2a40b_level0_row1\" class=\"row_heading level0 row1\" >1</th>\n",
       "      <td id=\"T_2a40b_row1_col0\" class=\"data row1 col0\" >None</td>\n",
       "      <td id=\"T_2a40b_row1_col1\" class=\"data row1 col1\" >None</td>\n",
       "      <td id=\"T_2a40b_row1_col2\" class=\"data row1 col2\" >T</td>\n",
       "      <td id=\"T_2a40b_row1_col3\" class=\"data row1 col3\" >T</td>\n",
       "      <td id=\"T_2a40b_row1_col4\" class=\"data row1 col4\" >None</td>\n",
       "      <td id=\"T_2a40b_row1_col5\" class=\"data row1 col5\" >None</td>\n",
       "      <td id=\"T_2a40b_row1_col6\" class=\"data row1 col6\" >None</td>\n",
       "      <td id=\"T_2a40b_row1_col7\" class=\"data row1 col7\" >None</td>\n",
       "      <td id=\"T_2a40b_row1_col8\" class=\"data row1 col8\" >None</td>\n",
       "      <td id=\"T_2a40b_row1_col9\" class=\"data row1 col9\" >None</td>\n",
       "      <td id=\"T_2a40b_row1_col10\" class=\"data row1 col10\" >None</td>\n",
       "      <td id=\"T_2a40b_row1_col11\" class=\"data row1 col11\" >None</td>\n",
       "    </tr>\n",
       "    <tr>\n",
       "      <th id=\"T_2a40b_level0_row2\" class=\"row_heading level0 row2\" >2</th>\n",
       "      <td id=\"T_2a40b_row2_col0\" class=\"data row2 col0\" >None</td>\n",
       "      <td id=\"T_2a40b_row2_col1\" class=\"data row2 col1\" >None</td>\n",
       "      <td id=\"T_2a40b_row2_col2\" class=\"data row2 col2\" >P</td>\n",
       "      <td id=\"T_2a40b_row2_col3\" class=\"data row2 col3\" >P</td>\n",
       "      <td id=\"T_2a40b_row2_col4\" class=\"data row2 col4\" >None</td>\n",
       "      <td id=\"T_2a40b_row2_col5\" class=\"data row2 col5\" >None</td>\n",
       "      <td id=\"T_2a40b_row2_col6\" class=\"data row2 col6\" >None</td>\n",
       "      <td id=\"T_2a40b_row2_col7\" class=\"data row2 col7\" >None</td>\n",
       "      <td id=\"T_2a40b_row2_col8\" class=\"data row2 col8\" >P</td>\n",
       "      <td id=\"T_2a40b_row2_col9\" class=\"data row2 col9\" >None</td>\n",
       "      <td id=\"T_2a40b_row2_col10\" class=\"data row2 col10\" >None</td>\n",
       "      <td id=\"T_2a40b_row2_col11\" class=\"data row2 col11\" >None</td>\n",
       "    </tr>\n",
       "  </tbody>\n",
       "</table>\n"
      ],
      "text/plain": [
       "<pandas.io.formats.style.Styler at 0x176a0aa60b0>"
      ]
     },
     "execution_count": 13,
     "metadata": {},
     "output_type": "execute_result"
    }
   ],
   "source": [
    "styled_cal"
   ]
  },
  {
   "cell_type": "code",
   "execution_count": 14,
   "metadata": {},
   "outputs": [],
   "source": [
    "def obtain_values (df):\n",
    "    months = ['Jan', 'Feb', 'Mar', 'Apr', 'May', 'Jun', 'Jul', 'Aug', 'Sep', 'Oct', 'Nov', 'Dec']\n",
    "    values = ['S', 'T', 'P']\n",
    "    values_description = {'S': 'Plant undercover seed trays',\n",
    "                           'T': 'Transplant seedlings',\n",
    "                           'P': 'Plant seeds'}\n",
    "    dict_ = {}\n",
    "\n",
    "    for value in values:\n",
    "        months_value = [month for month in months if df[month].str.contains(value).any()]\n",
    "        if months_value:\n",
    "            dict_[values_description[value]] = months_value\n",
    "\n",
    "    return dict_"
   ]
  },
  {
   "cell_type": "code",
   "execution_count": 15,
   "metadata": {},
   "outputs": [
    {
     "data": {
      "text/plain": [
       "{'Plant undercover seed trays': ['Jan', 'Feb'],\n",
       " 'Transplant seedlings': ['Mar', 'Apr'],\n",
       " 'Plant seeds': ['Mar', 'Apr', 'Sep']}"
      ]
     },
     "execution_count": 15,
     "metadata": {},
     "output_type": "execute_result"
    }
   ],
   "source": [
    "obtain_values(seasonality)"
   ]
  },
  {
   "cell_type": "markdown",
   "metadata": {},
   "source": []
  },
  {
   "cell_type": "code",
   "execution_count": null,
   "metadata": {},
   "outputs": [],
   "source": []
  }
 ],
 "metadata": {
  "kernelspec": {
   "display_name": "proyecto_final",
   "language": "python",
   "name": "python3"
  },
  "language_info": {
   "codemirror_mode": {
    "name": "ipython",
    "version": 3
   },
   "file_extension": ".py",
   "mimetype": "text/x-python",
   "name": "python",
   "nbconvert_exporter": "python",
   "pygments_lexer": "ipython3",
   "version": "3.10.9"
  },
  "orig_nbformat": 4
 },
 "nbformat": 4,
 "nbformat_minor": 2
}
