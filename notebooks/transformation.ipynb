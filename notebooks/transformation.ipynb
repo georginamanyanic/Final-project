{
 "cells": [
  {
   "cell_type": "code",
   "execution_count": 1,
   "metadata": {},
   "outputs": [],
   "source": [
    "import json\n",
    "from geojson import MultiPolygon, Polygon, Feature, FeatureCollection\n",
    "\n",
    "def multipolygon_to_polygon(multipolygon):\n",
    "    polygons = []\n",
    "    for polygon in multipolygon['coordinates']:\n",
    "        polygons.append(Polygon(polygon))\n",
    "    return polygons\n",
    "\n",
    "# Load the multipolygon GeoJSON\n",
    "geojson_data = '''\n",
    "{\n",
    "\"type\": \"FeatureCollection\",\n",
    "\"features\": [\n",
    "{ \"type\": \"Feature\", \"properties\": { \"hzs\": \"4b\", \"pm_icon\": \"ES_4b\" }, \"geometry\": { \"type\": \"MultiPolygon\", \"coordinates\": [ [ [ [ 0.666, 42.633 ], [ 0.700, 42.633 ], [ 0.700, 42.600 ], [ 0.666, 42.600 ], [ 0.666, 42.633 ] ] ], [ [ [ 0.466, 42.633 ], [ 0.433, 42.633 ], [ 0.433, 42.666 ], [ 0.466, 42.666 ], [ 0.466, 42.633 ] ] ], [ [ [ 0.666, 42.633 ], [ 0.633, 42.633 ], [ 0.633, 42.666 ], [ 0.666, 42.666 ], [ 0.666, 42.633 ] ] ], [ [ [ 0.033, 42.700 ], [ 0.033, 42.666 ], [ 0.000, 42.666 ], [ 0.000, 42.685 ], [ 0.000, 42.685 ], [ 0.000, 42.685 ], [ 0.001, 42.685 ], [ 0.002, 42.686 ], [ 0.002, 42.686 ], [ 0.003, 42.687 ], [ 0.003, 42.687 ], [ 0.004, 42.687 ], [ 0.004, 42.687 ], [ 0.004, 42.687 ], [ 0.004, 42.688 ], [ 0.004, 42.689 ], [ 0.006, 42.688 ], [ 0.006, 42.688 ], [ 0.007, 42.690 ], [ 0.008, 42.690 ], [ 0.009, 42.690 ], [ 0.010, 42.690 ], [ 0.011, 42.691 ], [ 0.011, 42.692 ], [ 0.011, 42.692 ], [ 0.011, 42.693 ], [ 0.013, 42.693 ], [ 0.014, 42.693 ], [ 0.015, 42.695 ], [ 0.015, 42.699 ], [ 0.014, 42.700 ], [ 0.033, 42.700 ] ] ] ] } }\n",
    "]\n",
    "}\n",
    "'''\n",
    "\n",
    "data = json.loads(geojson_data)\n",
    "\n",
    "# Extract the multipolygon feature\n",
    "multipolygon_feature = data['features'][0]\n",
    "\n",
    "# Convert the multipolygon feature to polygons\n",
    "polygons = multipolygon_to_polygon(multipolygon_feature['geometry'])\n",
    "\n",
    "# Create a new GeoJSON feature collection with polygons\n",
    "feature_collection = FeatureCollection([Feature(geometry=polygon) for polygon in polygons])\n",
    "\n",
    "# Save the polygon GeoJSON to a file\n",
    "with open('polygon.geojson', 'w') as file:\n",
    "    json.dump(feature_collection, file)"
   ]
  },
  {
   "cell_type": "code",
   "execution_count": 2,
   "metadata": {},
   "outputs": [],
   "source": [
    "import json\n",
    "from geojson import MultiPolygon, Polygon, Feature, FeatureCollection\n",
    "\n",
    "def multipolygon_to_polygon(feature):\n",
    "    polygons = []\n",
    "    properties = feature['properties']\n",
    "    for coordinates in feature['geometry']['coordinates']:\n",
    "        polygon = Polygon(coordinates)\n",
    "        polygon_feature = Feature(geometry=polygon, properties=properties)\n",
    "        polygons.append(polygon_feature)\n",
    "    return polygons\n",
    "\n",
    "# Load the MultiPolygon GeoJSON\n",
    "geojson_data = '''\n",
    "{\n",
    "\"type\": \"FeatureCollection\",\n",
    "\"features\": [\n",
    "{ \"type\": \"Feature\", \"properties\": { \"hzs\": \"4b\", \"pm_icon\": \"ES_4b\" }, \"geometry\": { \"type\": \"MultiPolygon\", \"coordinates\": [ [ [ [ 0.666, 42.633 ], [ 0.700, 42.633 ], [ 0.700, 42.600 ], [ 0.666, 42.600 ], [ 0.666, 42.633 ] ] ], [ [ [ 0.466, 42.633 ], [ 0.433, 42.633 ], [ 0.433, 42.666 ], [ 0.466, 42.666 ], [ 0.466, 42.633 ] ] ], [ [ [ 0.666, 42.633 ], [ 0.633, 42.633 ], [ 0.633, 42.666 ], [ 0.666, 42.666 ], [ 0.666, 42.633 ] ] ], [ [ [ 0.033, 42.700 ], [ 0.033, 42.666 ], [ 0.000, 42.666 ], [ 0.000, 42.685 ], [ 0.000, 42.685 ], [ 0.000, 42.685 ], [ 0.001, 42.685 ], [ 0.002, 42.686 ], [ 0.002, 42.686 ], [ 0.003, 42.687 ], [ 0.003, 42.687 ], [ 0.004, 42.687 ], [ 0.004, 42.687 ], [ 0.004, 42.687 ], [ 0.004, 42.688 ], [ 0.004, 42.689 ], [ 0.006, 42.688 ], [ 0.006, 42.688 ], [ 0.007, 42.690 ], [ 0.008, 42.690 ], [ 0.009, 42.690 ], [ 0.010, 42.690 ], [ 0.011, 42.691 ], [ 0.011, 42.692 ], [ 0.011, 42.692 ], [ 0.011, 42.693 ], [ 0.013, 42.693 ], [ 0.014, 42.693 ], [ 0.015, 42.695 ], [ 0.015, 42.699 ], [ 0.014, 42.700 ], [ 0.033, 42.700 ] ] ] ] } }\n",
    "]\n",
    "}\n",
    "'''\n",
    "\n",
    "data = json.loads(geojson_data)\n",
    "\n",
    "# Extract the MultiPolygon feature\n",
    "multipolygon_feature = data['features'][0]\n",
    "\n",
    "# Convert the MultiPolygon feature to polygons\n",
    "polygons = multipolygon_to_polygon(multipolygon_feature)\n",
    "\n",
    "# Create a new GeoJSONfeature collection with polygons\n",
    "feature_collection = FeatureCollection(polygons)\n",
    "\n",
    "# Save the polygon GeoJSON to a file\n",
    "with open('polygon.geojson', 'w') as file:\n",
    "    json.dump(feature_collection, file)"
   ]
  },
  {
   "cell_type": "code",
   "execution_count": 4,
   "metadata": {},
   "outputs": [
    {
     "name": "stdout",
     "output_type": "stream",
     "text": [
      "<pymongo.cursor.Cursor object at 0x000001940BAD7CD0>\n"
     ]
    }
   ],
   "source": [
    "from pymongo import MongoClient\n",
    "\n",
    "client = MongoClient(\"localhost:27017\")\n",
    "db = client[\"hsz\"]\n",
    "c = db.get_collection(\"hsz\")\n",
    "\n",
    "long = 0.666\n",
    "lat = 42.633\n",
    "\n",
    "my_position = {\"type\": \"Point\", \"coordinates\": [long, lat]}\n",
    "\n",
    "result = c.find(\n",
    "            {\"features.geometry\": \n",
    "                     {\"$geoIntersects\": \n",
    "                         {\"$geometry\": my_position}}\n",
    "            })\n",
    "print(result)"
   ]
  },
  {
   "cell_type": "code",
   "execution_count": 13,
   "metadata": {},
   "outputs": [
    {
     "data": {
      "text/plain": [
       "'4b'"
      ]
     },
     "execution_count": 13,
     "metadata": {},
     "output_type": "execute_result"
    }
   ],
   "source": [
    "result[0]['features'][0]['properties']['hzs']"
   ]
  },
  {
   "attachments": {},
   "cell_type": "markdown",
   "metadata": {},
   "source": [
    "pROVA 5B"
   ]
  },
  {
   "cell_type": "code",
   "execution_count": 15,
   "metadata": {},
   "outputs": [],
   "source": [
    "import os \n",
    "file_path = os.path.join('C:/Users/manya/Documents/Ironhack/Course/Final-project/geojson/old_geojson/ES_HZ_10b.geojson')\n",
    "            # Load the GeoJSON file\n",
    "with open(file_path) as file:\n",
    "    data = json.load(file)\n",
    "\n",
    "multipolygon_feature = data['features'][0]\n",
    "\n",
    "# Convert the MultiPolygon feature to polygons\n",
    "polygons = multipolygon_to_polygon(multipolygon_feature)\n",
    "\n",
    "# Create a new GeoJSONfeature collection with polygons\n",
    "feature_collection = FeatureCollection(polygons)\n",
    "\n",
    "# Save the polygon GeoJSON to a file\n",
    "with open('5a_polygon.geojson', 'w') as file:\n",
    "    json.dump(feature_collection, file)"
   ]
  }
 ],
 "metadata": {
  "kernelspec": {
   "display_name": "proyecto_final",
   "language": "python",
   "name": "python3"
  },
  "language_info": {
   "codemirror_mode": {
    "name": "ipython",
    "version": 3
   },
   "file_extension": ".py",
   "mimetype": "text/x-python",
   "name": "python",
   "nbconvert_exporter": "python",
   "pygments_lexer": "ipython3",
   "version": "3.10.9"
  },
  "orig_nbformat": 4
 },
 "nbformat": 4,
 "nbformat_minor": 2
}
